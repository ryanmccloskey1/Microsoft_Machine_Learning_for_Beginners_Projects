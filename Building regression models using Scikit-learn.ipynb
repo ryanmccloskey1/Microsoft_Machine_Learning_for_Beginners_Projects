{
 "cells": [
  {
   "cell_type": "code",
   "execution_count": 7,
   "id": "e50a77cf",
   "metadata": {},
   "outputs": [],
   "source": [
    "#Importing libraries\n",
    "import pandas as pd\n",
    "from sklearn.linear_model import LinearRegression\n",
    "from sklearn.metrics import mean_squared_error\n",
    "from sklearn.model_selection import train_test_split\n",
    "import matplotlib.pyplot as plt\n",
    "import seaborn as sb\n",
    "import numpy as np"
   ]
  },
  {
   "cell_type": "code",
   "execution_count": 80,
   "id": "8f77174a",
   "metadata": {},
   "outputs": [],
   "source": [
    "#Copying the code from a previous notebook to import and clean the data\n",
    "pumpkins = pd.read_csv(r'C:\\Users\\ryant\\OneDrive\\Documents\\US-pumpkins.csv')"
   ]
  },
  {
   "cell_type": "code",
   "execution_count": 82,
   "id": "a98da067",
   "metadata": {},
   "outputs": [
    {
     "data": {
      "text/html": [
       "<div>\n",
       "<style scoped>\n",
       "    .dataframe tbody tr th:only-of-type {\n",
       "        vertical-align: middle;\n",
       "    }\n",
       "\n",
       "    .dataframe tbody tr th {\n",
       "        vertical-align: top;\n",
       "    }\n",
       "\n",
       "    .dataframe thead th {\n",
       "        text-align: right;\n",
       "    }\n",
       "</style>\n",
       "<table border=\"1\" class=\"dataframe\">\n",
       "  <thead>\n",
       "    <tr style=\"text-align: right;\">\n",
       "      <th></th>\n",
       "      <th>Package</th>\n",
       "      <th>Low Price</th>\n",
       "      <th>High Price</th>\n",
       "      <th>Date</th>\n",
       "      <th>Variety</th>\n",
       "      <th>City Name</th>\n",
       "    </tr>\n",
       "  </thead>\n",
       "  <tbody>\n",
       "    <tr>\n",
       "      <th>0</th>\n",
       "      <td>24 inch bins</td>\n",
       "      <td>270.0</td>\n",
       "      <td>280.0</td>\n",
       "      <td>4/29/17</td>\n",
       "      <td>NaN</td>\n",
       "      <td>BALTIMORE</td>\n",
       "    </tr>\n",
       "    <tr>\n",
       "      <th>1</th>\n",
       "      <td>24 inch bins</td>\n",
       "      <td>270.0</td>\n",
       "      <td>280.0</td>\n",
       "      <td>5/6/17</td>\n",
       "      <td>NaN</td>\n",
       "      <td>BALTIMORE</td>\n",
       "    </tr>\n",
       "    <tr>\n",
       "      <th>2</th>\n",
       "      <td>24 inch bins</td>\n",
       "      <td>160.0</td>\n",
       "      <td>160.0</td>\n",
       "      <td>9/24/16</td>\n",
       "      <td>HOWDEN TYPE</td>\n",
       "      <td>BALTIMORE</td>\n",
       "    </tr>\n",
       "    <tr>\n",
       "      <th>3</th>\n",
       "      <td>24 inch bins</td>\n",
       "      <td>160.0</td>\n",
       "      <td>160.0</td>\n",
       "      <td>9/24/16</td>\n",
       "      <td>HOWDEN TYPE</td>\n",
       "      <td>BALTIMORE</td>\n",
       "    </tr>\n",
       "    <tr>\n",
       "      <th>4</th>\n",
       "      <td>24 inch bins</td>\n",
       "      <td>90.0</td>\n",
       "      <td>100.0</td>\n",
       "      <td>11/5/16</td>\n",
       "      <td>HOWDEN TYPE</td>\n",
       "      <td>BALTIMORE</td>\n",
       "    </tr>\n",
       "  </tbody>\n",
       "</table>\n",
       "</div>"
      ],
      "text/plain": [
       "        Package  Low Price  High Price     Date      Variety  City Name\n",
       "0  24 inch bins      270.0       280.0  4/29/17          NaN  BALTIMORE\n",
       "1  24 inch bins      270.0       280.0   5/6/17          NaN  BALTIMORE\n",
       "2  24 inch bins      160.0       160.0  9/24/16  HOWDEN TYPE  BALTIMORE\n",
       "3  24 inch bins      160.0       160.0  9/24/16  HOWDEN TYPE  BALTIMORE\n",
       "4  24 inch bins       90.0       100.0  11/5/16  HOWDEN TYPE  BALTIMORE"
      ]
     },
     "execution_count": 82,
     "metadata": {},
     "output_type": "execute_result"
    }
   ],
   "source": [
    "pumpkins.head()"
   ]
  },
  {
   "cell_type": "code",
   "execution_count": 81,
   "id": "0fe4c4ef",
   "metadata": {},
   "outputs": [],
   "source": [
    "#Selecting only the columns of interest\n",
    "columns_to_select = ['Package', 'Low Price', 'High Price', 'Date', 'Variety', 'City Name']\n",
    "pumpkins = pumpkins.loc[:, columns_to_select]"
   ]
  },
  {
   "cell_type": "code",
   "execution_count": 35,
   "id": "de398212",
   "metadata": {},
   "outputs": [],
   "source": [
    "#Calculating the average of the lowest and highest prices and converting the data column to show only the month\n",
    "price = (pumpkins['Low Price'] + pumpkins['High Price']) / 2\n",
    "\n",
    "month = pd.DatetimeIndex(pumpkins['Date']).month"
   ]
  },
  {
   "cell_type": "code",
   "execution_count": 83,
   "id": "ffe4d3cd",
   "metadata": {},
   "outputs": [],
   "source": [
    "#Creating a new Pandas DataFrame with this altered data\n",
    "new_pumpkins = pd.DataFrame({'Month': month, 'Package': pumpkins['Package'], 'Low Price': pumpkins['Low Price'],'High Price': pumpkins['High Price'], 'Price': price, 'Variety': pumpkins['Variety'], 'City': pumpkins['City Name']})"
   ]
  },
  {
   "cell_type": "code",
   "execution_count": 6,
   "id": "2753733a",
   "metadata": {},
   "outputs": [],
   "source": [
    "#Adding filters to account for the pumpkins being recorded in different measurements in the 'Package' variable\n",
    "pumpkins = pumpkins[pumpkins['Package'].str.contains('bushel', case=True, regex=True)]\n",
    "\n",
    "new_pumpkins.loc[new_pumpkins['Package'].str.contains('1 1/9'), 'Price'] = price/(1 + 1/9)\n",
    "\n",
    "new_pumpkins.loc[new_pumpkins['Package'].str.contains('1/2'), 'Price'] = price/(1/2)"
   ]
  },
  {
   "cell_type": "code",
   "execution_count": 13,
   "id": "b3378546",
   "metadata": {},
   "outputs": [],
   "source": [
    "from datetime import datetime"
   ]
  },
  {
   "cell_type": "code",
   "execution_count": 85,
   "id": "e4172c6e",
   "metadata": {},
   "outputs": [],
   "source": [
    "#Creating a new \"DayOfYear\" variable to include in the regression\n",
    "new_pumpkins['DayOfYear'] = pd.to_datetime(pumpkins['Date']).dt.dayofyear"
   ]
  },
  {
   "cell_type": "code",
   "execution_count": 86,
   "id": "1be46f4b",
   "metadata": {},
   "outputs": [
    {
     "data": {
      "text/html": [
       "<div>\n",
       "<style scoped>\n",
       "    .dataframe tbody tr th:only-of-type {\n",
       "        vertical-align: middle;\n",
       "    }\n",
       "\n",
       "    .dataframe tbody tr th {\n",
       "        vertical-align: top;\n",
       "    }\n",
       "\n",
       "    .dataframe thead th {\n",
       "        text-align: right;\n",
       "    }\n",
       "</style>\n",
       "<table border=\"1\" class=\"dataframe\">\n",
       "  <thead>\n",
       "    <tr style=\"text-align: right;\">\n",
       "      <th></th>\n",
       "      <th>Month</th>\n",
       "      <th>Package</th>\n",
       "      <th>Low Price</th>\n",
       "      <th>High Price</th>\n",
       "      <th>Price</th>\n",
       "      <th>Variety</th>\n",
       "      <th>City</th>\n",
       "      <th>DayOfYear</th>\n",
       "    </tr>\n",
       "  </thead>\n",
       "  <tbody>\n",
       "    <tr>\n",
       "      <th>0</th>\n",
       "      <td>4</td>\n",
       "      <td>24 inch bins</td>\n",
       "      <td>270.0</td>\n",
       "      <td>280.0</td>\n",
       "      <td>275.0</td>\n",
       "      <td>NaN</td>\n",
       "      <td>BALTIMORE</td>\n",
       "      <td>119</td>\n",
       "    </tr>\n",
       "    <tr>\n",
       "      <th>1</th>\n",
       "      <td>5</td>\n",
       "      <td>24 inch bins</td>\n",
       "      <td>270.0</td>\n",
       "      <td>280.0</td>\n",
       "      <td>275.0</td>\n",
       "      <td>NaN</td>\n",
       "      <td>BALTIMORE</td>\n",
       "      <td>126</td>\n",
       "    </tr>\n",
       "    <tr>\n",
       "      <th>2</th>\n",
       "      <td>9</td>\n",
       "      <td>24 inch bins</td>\n",
       "      <td>160.0</td>\n",
       "      <td>160.0</td>\n",
       "      <td>160.0</td>\n",
       "      <td>HOWDEN TYPE</td>\n",
       "      <td>BALTIMORE</td>\n",
       "      <td>268</td>\n",
       "    </tr>\n",
       "    <tr>\n",
       "      <th>3</th>\n",
       "      <td>9</td>\n",
       "      <td>24 inch bins</td>\n",
       "      <td>160.0</td>\n",
       "      <td>160.0</td>\n",
       "      <td>160.0</td>\n",
       "      <td>HOWDEN TYPE</td>\n",
       "      <td>BALTIMORE</td>\n",
       "      <td>268</td>\n",
       "    </tr>\n",
       "    <tr>\n",
       "      <th>4</th>\n",
       "      <td>11</td>\n",
       "      <td>24 inch bins</td>\n",
       "      <td>90.0</td>\n",
       "      <td>100.0</td>\n",
       "      <td>95.0</td>\n",
       "      <td>HOWDEN TYPE</td>\n",
       "      <td>BALTIMORE</td>\n",
       "      <td>310</td>\n",
       "    </tr>\n",
       "  </tbody>\n",
       "</table>\n",
       "</div>"
      ],
      "text/plain": [
       "   Month       Package  Low Price  High Price  Price      Variety       City  \\\n",
       "0      4  24 inch bins      270.0       280.0  275.0          NaN  BALTIMORE   \n",
       "1      5  24 inch bins      270.0       280.0  275.0          NaN  BALTIMORE   \n",
       "2      9  24 inch bins      160.0       160.0  160.0  HOWDEN TYPE  BALTIMORE   \n",
       "3      9  24 inch bins      160.0       160.0  160.0  HOWDEN TYPE  BALTIMORE   \n",
       "4     11  24 inch bins       90.0       100.0   95.0  HOWDEN TYPE  BALTIMORE   \n",
       "\n",
       "   DayOfYear  \n",
       "0        119  \n",
       "1        126  \n",
       "2        268  \n",
       "3        268  \n",
       "4        310  "
      ]
     },
     "execution_count": 86,
     "metadata": {},
     "output_type": "execute_result"
    }
   ],
   "source": [
    "new_pumpkins.head()"
   ]
  },
  {
   "cell_type": "code",
   "execution_count": 43,
   "id": "5ca0c19e",
   "metadata": {},
   "outputs": [
    {
     "name": "stdout",
     "output_type": "stream",
     "text": [
      "-0.13926917029945227\n",
      "-0.1418792711468536\n"
     ]
    }
   ],
   "source": [
    "#Investigating the correlation of pumpkin price with Month and DayOfYear\n",
    "print(new_pumpkins['Month'].corr(new_pumpkins['Price']))\n",
    "print(new_pumpkins['DayOfYear'].corr(new_pumpkins['Price']))"
   ]
  },
  {
   "cell_type": "code",
   "execution_count": 55,
   "id": "38a0a86f",
   "metadata": {},
   "outputs": [
    {
     "ename": "IndexError",
     "evalue": "list index out of range",
     "output_type": "error",
     "traceback": [
      "\u001b[1;31m---------------------------------------------------------------------------\u001b[0m",
      "\u001b[1;31mIndexError\u001b[0m                                Traceback (most recent call last)",
      "Cell \u001b[1;32mIn[55], line 5\u001b[0m\n\u001b[0;32m      3\u001b[0m \u001b[38;5;28;01mfor\u001b[39;00m i,var \u001b[38;5;129;01min\u001b[39;00m \u001b[38;5;28menumerate\u001b[39m(new_pumpkins[\u001b[38;5;124m'\u001b[39m\u001b[38;5;124mVariety\u001b[39m\u001b[38;5;124m'\u001b[39m]\u001b[38;5;241m.\u001b[39munique()):\n\u001b[0;32m      4\u001b[0m     df \u001b[38;5;241m=\u001b[39m new_pumpkins[new_pumpkins[\u001b[38;5;124m'\u001b[39m\u001b[38;5;124mVariety\u001b[39m\u001b[38;5;124m'\u001b[39m]\u001b[38;5;241m==\u001b[39mvar]\n\u001b[1;32m----> 5\u001b[0m     ax \u001b[38;5;241m=\u001b[39m df\u001b[38;5;241m.\u001b[39mplot\u001b[38;5;241m.\u001b[39mscatter(\u001b[38;5;124m'\u001b[39m\u001b[38;5;124mDayOfYear\u001b[39m\u001b[38;5;124m'\u001b[39m,\u001b[38;5;124m'\u001b[39m\u001b[38;5;124mPrice\u001b[39m\u001b[38;5;124m'\u001b[39m,ax\u001b[38;5;241m=\u001b[39max,c\u001b[38;5;241m=\u001b[39m\u001b[43mcolors\u001b[49m\u001b[43m[\u001b[49m\u001b[43mi\u001b[49m\u001b[43m]\u001b[49m,label\u001b[38;5;241m=\u001b[39mvar)\n",
      "\u001b[1;31mIndexError\u001b[0m: list index out of range"
     ]
    },
    {
     "data": {
      "image/png": "[encoded data removed]",
      "text/plain": [
       "<Figure size 640x480 with 1 Axes>"
      ]
     },
     "metadata": {},
     "output_type": "display_data"
    }
   ],
   "source": [
    "#Creating a scatter plot of price against DayOfYear grouping by variety\n",
    "ax=None\n",
    "colors = ['red','blue','green','yellow']\n",
    "for i,var in enumerate(new_pumpkins['Variety'].unique()):\n",
    "    df = new_pumpkins[new_pumpkins['Variety']==var]\n",
    "    ax = df.plot.scatter('DayOfYear','Price',ax=ax,c=colors[i],label=var)"
   ]
  },
  {
   "cell_type": "code",
   "execution_count": 58,
   "id": "80f1f2bc",
   "metadata": {},
   "outputs": [
    {
     "data": {
      "text/plain": [
       "Text(0.5, 0, 'Variety')"
      ]
     },
     "execution_count": 58,
     "metadata": {},
     "output_type": "execute_result"
    },
    {
     "data": {
      "image/png": "[encoded data removed]",
      "text/plain": [
       "<Figure size 640x480 with 1 Axes>"
      ]
     },
     "metadata": {},
     "output_type": "display_data"
    }
   ],
   "source": [
    "#Creating a barchart showing the mean price for each variety\n",
    "new_pumpkins.groupby('Variety')['Price'].mean().plot(kind='bar')\n",
    "plt.ylabel('Pumpkin Price')\n",
    "plt.xlabel('Variety')"
   ]
  },
  {
   "cell_type": "code",
   "execution_count": 59,
   "id": "cba0a3a0",
   "metadata": {},
   "outputs": [
    {
     "data": {
      "text/plain": [
       "<Axes: xlabel='DayOfYear', ylabel='Price'>"
      ]
     },
     "execution_count": 59,
     "metadata": {},
     "output_type": "execute_result"
    },
    {
     "data": {
      "image/png": "[encoded data removed]",
      "text/plain": [
       "<Figure size 640x480 with 1 Axes>"
      ]
     },
     "metadata": {},
     "output_type": "display_data"
    }
   ],
   "source": [
    "#Investigating the relationship between price and day of year for a particular variety\n",
    "pie_pumpkins = new_pumpkins[new_pumpkins['Variety']=='PIE TYPE']\n",
    "pie_pumpkins.plot.scatter('DayOfYear','Price')"
   ]
  },
  {
   "cell_type": "code",
   "execution_count": 60,
   "id": "b5aeb2e7",
   "metadata": {},
   "outputs": [
    {
     "name": "stdout",
     "output_type": "stream",
     "text": [
      "<class 'pandas.core.frame.DataFrame'>\n",
      "Int64Index: 468 entries, 70 to 1708\n",
      "Data columns (total 7 columns):\n",
      " #   Column      Non-Null Count  Dtype  \n",
      "---  ------      --------------  -----  \n",
      " 0   Month       468 non-null    int64  \n",
      " 1   Package     468 non-null    object \n",
      " 2   Low Price   468 non-null    float64\n",
      " 3   High Price  468 non-null    float64\n",
      " 4   Price       468 non-null    float64\n",
      " 5   Variety     468 non-null    object \n",
      " 6   DayOfYear   468 non-null    int64  \n",
      "dtypes: float64(3), int64(2), object(2)\n",
      "memory usage: 29.2+ KB\n"
     ]
    },
    {
     "name": "stderr",
     "output_type": "stream",
     "text": [
      "C:\\Users\\ryant\\AppData\\Local\\Temp\\ipykernel_14392\\2534229087.py:2: SettingWithCopyWarning: \n",
      "A value is trying to be set on a copy of a slice from a DataFrame\n",
      "\n",
      "See the caveats in the documentation: https://pandas.pydata.org/pandas-docs/stable/user_guide/indexing.html#returning-a-view-versus-a-copy\n",
      "  pie_pumpkins.dropna(inplace=True)\n"
     ]
    }
   ],
   "source": [
    "#Dropping null observations\n",
    "pie_pumpkins.dropna(inplace=True)\n",
    "pie_pumpkins.info()"
   ]
  },
  {
   "cell_type": "code",
   "execution_count": 61,
   "id": "528cf972",
   "metadata": {},
   "outputs": [],
   "source": [
    "#Creating target and regressors\n",
    "X = pie_pumpkins['DayOfYear'].to_numpy().reshape(-1,1)\n",
    "y = pie_pumpkins['Price']"
   ]
  },
  {
   "cell_type": "code",
   "execution_count": 62,
   "id": "e870e59b",
   "metadata": {},
   "outputs": [],
   "source": [
    "#Performing the train-test split\n",
    "X_train, X_test, y_train, y_test = train_test_split(X, y, test_size=0.2, random_state=0)"
   ]
  },
  {
   "cell_type": "code",
   "execution_count": 63,
   "id": "a2bf3c42",
   "metadata": {},
   "outputs": [
    {
     "data": {
      "text/html": [
       "<style>#sk-container-id-1 {color: black;background-color: white;}#sk-container-id-1 pre{padding: 0;}#sk-container-id-1 div.sk-toggleable {background-color: white;}#sk-container-id-1 label.sk-toggleable__label {cursor: pointer;display: block;width: 100%;margin-bottom: 0;padding: 0.3em;box-sizing: border-box;text-align: center;}#sk-container-id-1 label.sk-toggleable__label-arrow:before {content: \"▸\";float: left;margin-right: 0.25em;color: #696969;}#sk-container-id-1 label.sk-toggleable__label-arrow:hover:before {color: black;}#sk-container-id-1 div.sk-estimator:hover label.sk-toggleable__label-arrow:before {color: black;}#sk-container-id-1 div.sk-toggleable__content {max-height: 0;max-width: 0;overflow: hidden;text-align: left;background-color: #f0f8ff;}#sk-container-id-1 div.sk-toggleable__content pre {margin: 0.2em;color: black;border-radius: 0.25em;background-color: #f0f8ff;}#sk-container-id-1 input.sk-toggleable__control:checked~div.sk-toggleable__content {max-height: 200px;max-width: 100%;overflow: auto;}#sk-container-id-1 input.sk-toggleable__control:checked~label.sk-toggleable__label-arrow:before {content: \"▾\";}#sk-container-id-1 div.sk-estimator input.sk-toggleable__control:checked~label.sk-toggleable__label {background-color: #d4ebff;}#sk-container-id-1 div.sk-label input.sk-toggleable__control:checked~label.sk-toggleable__label {background-color: #d4ebff;}#sk-container-id-1 input.sk-hidden--visually {border: 0;clip: rect(1px 1px 1px 1px);clip: rect(1px, 1px, 1px, 1px);height: 1px;margin: -1px;overflow: hidden;padding: 0;position: absolute;width: 1px;}#sk-container-id-1 div.sk-estimator {font-family: monospace;background-color: #f0f8ff;border: 1px dotted black;border-radius: 0.25em;box-sizing: border-box;margin-bottom: 0.5em;}#sk-container-id-1 div.sk-estimator:hover {background-color: #d4ebff;}#sk-container-id-1 div.sk-parallel-item::after {content: \"\";width: 100%;border-bottom: 1px solid gray;flex-grow: 1;}#sk-container-id-1 div.sk-label:hover label.sk-toggleable__label {background-color: #d4ebff;}#sk-container-id-1 div.sk-serial::before {content: \"\";position: absolute;border-left: 1px solid gray;box-sizing: border-box;top: 0;bottom: 0;left: 50%;z-index: 0;}#sk-container-id-1 div.sk-serial {display: flex;flex-direction: column;align-items: center;background-color: white;padding-right: 0.2em;padding-left: 0.2em;position: relative;}#sk-container-id-1 div.sk-item {position: relative;z-index: 1;}#sk-container-id-1 div.sk-parallel {display: flex;align-items: stretch;justify-content: center;background-color: white;position: relative;}#sk-container-id-1 div.sk-item::before, #sk-container-id-1 div.sk-parallel-item::before {content: \"\";position: absolute;border-left: 1px solid gray;box-sizing: border-box;top: 0;bottom: 0;left: 50%;z-index: -1;}#sk-container-id-1 div.sk-parallel-item {display: flex;flex-direction: column;z-index: 1;position: relative;background-color: white;}#sk-container-id-1 div.sk-parallel-item:first-child::after {align-self: flex-end;width: 50%;}#sk-container-id-1 div.sk-parallel-item:last-child::after {align-self: flex-start;width: 50%;}#sk-container-id-1 div.sk-parallel-item:only-child::after {width: 0;}#sk-container-id-1 div.sk-dashed-wrapped {border: 1px dashed gray;margin: 0 0.4em 0.5em 0.4em;box-sizing: border-box;padding-bottom: 0.4em;background-color: white;}#sk-container-id-1 div.sk-label label {font-family: monospace;font-weight: bold;display: inline-block;line-height: 1.2em;}#sk-container-id-1 div.sk-label-container {text-align: center;}#sk-container-id-1 div.sk-container {/* jupyter's `normalize.less` sets `[hidden] { display: none; }` but bootstrap.min.css set `[hidden] { display: none !important; }` so we also need the `!important` here to be able to override the default hidden behavior on the sphinx rendered scikit-learn.org. See: https://github.com/scikit-learn/scikit-learn/issues/21755 */display: inline-block !important;position: relative;}#sk-container-id-1 div.sk-text-repr-fallback {display: none;}</style><div id=\"sk-container-id-1\" class=\"sk-top-container\"><div class=\"sk-text-repr-fallback\"><pre>LinearRegression()</pre><b>In a Jupyter environment, please rerun this cell to show the HTML representation or trust the notebook. <br />On GitHub, the HTML representation is unable to render, please try loading this page with nbviewer.org.</b></div><div class=\"sk-container\" hidden><div class=\"sk-item\"><div class=\"sk-estimator sk-toggleable\"><input class=\"sk-toggleable__control sk-hidden--visually\" id=\"sk-estimator-id-1\" type=\"checkbox\" checked><label for=\"sk-estimator-id-1\" class=\"sk-toggleable__label sk-toggleable__label-arrow\">LinearRegression</label><div class=\"sk-toggleable__content\"><pre>LinearRegression()</pre></div></div></div></div></div>"
      ],
      "text/plain": [
       "LinearRegression()"
      ]
     },
     "execution_count": 63,
     "metadata": {},
     "output_type": "execute_result"
    }
   ],
   "source": [
    "#Generating and fitting the model to the data\n",
    "lin_reg = LinearRegression()\n",
    "lin_reg.fit(X_train,y_train)"
   ]
  },
  {
   "cell_type": "code",
   "execution_count": 64,
   "id": "3d2bd213",
   "metadata": {},
   "outputs": [
    {
     "name": "stdout",
     "output_type": "stream",
     "text": [
      "101.80022768424395\n"
     ]
    }
   ],
   "source": [
    "#Testing the model and looking at the mean-square error which is a measure of fit\n",
    "pred = lin_reg.predict(X_test)\n",
    "\n",
    "mse = np.sqrt(mean_squared_error(y_test,pred))\n",
    "print(mse)"
   ]
  },
  {
   "cell_type": "code",
   "execution_count": 65,
   "id": "092c0982",
   "metadata": {},
   "outputs": [
    {
     "name": "stdout",
     "output_type": "stream",
     "text": [
      "Model determination:  0.003436482600889801\n"
     ]
    }
   ],
   "source": [
    "#Looking at the score measure which is another measure of fit, we conclude that the fit of this model is very poor\n",
    "#and does not account for much variation within the target variable which is price\n",
    "score = lin_reg.score(X_train,y_train)\n",
    "print('Model determination: ', score)"
   ]
  },
  {
   "cell_type": "code",
   "execution_count": 68,
   "id": "b9506a21",
   "metadata": {},
   "outputs": [
    {
     "data": {
      "text/plain": [
       "[<matplotlib.lines.Line2D at 0x21534664f10>]"
      ]
     },
     "execution_count": 68,
     "metadata": {},
     "output_type": "execute_result"
    },
    {
     "data": {
      "image/png": "[encoded data removed]",
      "text/plain": [
       "<Figure size 640x480 with 1 Axes>"
      ]
     },
     "metadata": {},
     "output_type": "display_data"
    }
   ],
   "source": [
    "#Exploring the relationship between the independent and dependent variables\n",
    "plt.scatter(X_test,y_test, color='k')\n",
    "plt.plot(X_test,pred)"
   ]
  },
  {
   "cell_type": "code",
   "execution_count": 69,
   "id": "ffa54a14",
   "metadata": {},
   "outputs": [
    {
     "data": {
      "text/html": [
       "<style>#sk-container-id-2 {color: black;background-color: white;}#sk-container-id-2 pre{padding: 0;}#sk-container-id-2 div.sk-toggleable {background-color: white;}#sk-container-id-2 label.sk-toggleable__label {cursor: pointer;display: block;width: 100%;margin-bottom: 0;padding: 0.3em;box-sizing: border-box;text-align: center;}#sk-container-id-2 label.sk-toggleable__label-arrow:before {content: \"▸\";float: left;margin-right: 0.25em;color: #696969;}#sk-container-id-2 label.sk-toggleable__label-arrow:hover:before {color: black;}#sk-container-id-2 div.sk-estimator:hover label.sk-toggleable__label-arrow:before {color: black;}#sk-container-id-2 div.sk-toggleable__content {max-height: 0;max-width: 0;overflow: hidden;text-align: left;background-color: #f0f8ff;}#sk-container-id-2 div.sk-toggleable__content pre {margin: 0.2em;color: black;border-radius: 0.25em;background-color: #f0f8ff;}#sk-container-id-2 input.sk-toggleable__control:checked~div.sk-toggleable__content {max-height: 200px;max-width: 100%;overflow: auto;}#sk-container-id-2 input.sk-toggleable__control:checked~label.sk-toggleable__label-arrow:before {content: \"▾\";}#sk-container-id-2 div.sk-estimator input.sk-toggleable__control:checked~label.sk-toggleable__label {background-color: #d4ebff;}#sk-container-id-2 div.sk-label input.sk-toggleable__control:checked~label.sk-toggleable__label {background-color: #d4ebff;}#sk-container-id-2 input.sk-hidden--visually {border: 0;clip: rect(1px 1px 1px 1px);clip: rect(1px, 1px, 1px, 1px);height: 1px;margin: -1px;overflow: hidden;padding: 0;position: absolute;width: 1px;}#sk-container-id-2 div.sk-estimator {font-family: monospace;background-color: #f0f8ff;border: 1px dotted black;border-radius: 0.25em;box-sizing: border-box;margin-bottom: 0.5em;}#sk-container-id-2 div.sk-estimator:hover {background-color: #d4ebff;}#sk-container-id-2 div.sk-parallel-item::after {content: \"\";width: 100%;border-bottom: 1px solid gray;flex-grow: 1;}#sk-container-id-2 div.sk-label:hover label.sk-toggleable__label {background-color: #d4ebff;}#sk-container-id-2 div.sk-serial::before {content: \"\";position: absolute;border-left: 1px solid gray;box-sizing: border-box;top: 0;bottom: 0;left: 50%;z-index: 0;}#sk-container-id-2 div.sk-serial {display: flex;flex-direction: column;align-items: center;background-color: white;padding-right: 0.2em;padding-left: 0.2em;position: relative;}#sk-container-id-2 div.sk-item {position: relative;z-index: 1;}#sk-container-id-2 div.sk-parallel {display: flex;align-items: stretch;justify-content: center;background-color: white;position: relative;}#sk-container-id-2 div.sk-item::before, #sk-container-id-2 div.sk-parallel-item::before {content: \"\";position: absolute;border-left: 1px solid gray;box-sizing: border-box;top: 0;bottom: 0;left: 50%;z-index: -1;}#sk-container-id-2 div.sk-parallel-item {display: flex;flex-direction: column;z-index: 1;position: relative;background-color: white;}#sk-container-id-2 div.sk-parallel-item:first-child::after {align-self: flex-end;width: 50%;}#sk-container-id-2 div.sk-parallel-item:last-child::after {align-self: flex-start;width: 50%;}#sk-container-id-2 div.sk-parallel-item:only-child::after {width: 0;}#sk-container-id-2 div.sk-dashed-wrapped {border: 1px dashed gray;margin: 0 0.4em 0.5em 0.4em;box-sizing: border-box;padding-bottom: 0.4em;background-color: white;}#sk-container-id-2 div.sk-label label {font-family: monospace;font-weight: bold;display: inline-block;line-height: 1.2em;}#sk-container-id-2 div.sk-label-container {text-align: center;}#sk-container-id-2 div.sk-container {/* jupyter's `normalize.less` sets `[hidden] { display: none; }` but bootstrap.min.css set `[hidden] { display: none !important; }` so we also need the `!important` here to be able to override the default hidden behavior on the sphinx rendered scikit-learn.org. See: https://github.com/scikit-learn/scikit-learn/issues/21755 */display: inline-block !important;position: relative;}#sk-container-id-2 div.sk-text-repr-fallback {display: none;}</style><div id=\"sk-container-id-2\" class=\"sk-top-container\"><div class=\"sk-text-repr-fallback\"><pre>Pipeline(steps=[(&#x27;polynomialfeatures&#x27;, PolynomialFeatures()),\n",
       "                (&#x27;linearregression&#x27;, LinearRegression())])</pre><b>In a Jupyter environment, please rerun this cell to show the HTML representation or trust the notebook. <br />On GitHub, the HTML representation is unable to render, please try loading this page with nbviewer.org.</b></div><div class=\"sk-container\" hidden><div class=\"sk-item sk-dashed-wrapped\"><div class=\"sk-label-container\"><div class=\"sk-label sk-toggleable\"><input class=\"sk-toggleable__control sk-hidden--visually\" id=\"sk-estimator-id-2\" type=\"checkbox\" ><label for=\"sk-estimator-id-2\" class=\"sk-toggleable__label sk-toggleable__label-arrow\">Pipeline</label><div class=\"sk-toggleable__content\"><pre>Pipeline(steps=[(&#x27;polynomialfeatures&#x27;, PolynomialFeatures()),\n",
       "                (&#x27;linearregression&#x27;, LinearRegression())])</pre></div></div></div><div class=\"sk-serial\"><div class=\"sk-item\"><div class=\"sk-estimator sk-toggleable\"><input class=\"sk-toggleable__control sk-hidden--visually\" id=\"sk-estimator-id-3\" type=\"checkbox\" ><label for=\"sk-estimator-id-3\" class=\"sk-toggleable__label sk-toggleable__label-arrow\">PolynomialFeatures</label><div class=\"sk-toggleable__content\"><pre>PolynomialFeatures()</pre></div></div></div><div class=\"sk-item\"><div class=\"sk-estimator sk-toggleable\"><input class=\"sk-toggleable__control sk-hidden--visually\" id=\"sk-estimator-id-4\" type=\"checkbox\" ><label for=\"sk-estimator-id-4\" class=\"sk-toggleable__label sk-toggleable__label-arrow\">LinearRegression</label><div class=\"sk-toggleable__content\"><pre>LinearRegression()</pre></div></div></div></div></div></div></div>"
      ],
      "text/plain": [
       "Pipeline(steps=[('polynomialfeatures', PolynomialFeatures()),\n",
       "                ('linearregression', LinearRegression())])"
      ]
     },
     "execution_count": 69,
     "metadata": {},
     "output_type": "execute_result"
    }
   ],
   "source": [
    "#Importing for polynomial model\n",
    "from sklearn.preprocessing import PolynomialFeatures\n",
    "from sklearn.pipeline import make_pipeline\n",
    "\n",
    "pipeline = make_pipeline(PolynomialFeatures(2), LinearRegression())\n",
    "\n",
    "pipeline.fit(X_train,y_train)"
   ]
  },
  {
   "cell_type": "code",
   "execution_count": 70,
   "id": "530760fc",
   "metadata": {},
   "outputs": [
    {
     "name": "stdout",
     "output_type": "stream",
     "text": [
      "101.18299501134935\n"
     ]
    }
   ],
   "source": [
    "#Testing the polynomial model\n",
    "pred_poly = pipeline.predict(X_test)\n",
    "\n",
    "mse_poly = np.sqrt(mean_squared_error(y_test,pred_poly))\n",
    "print(mse_poly)"
   ]
  },
  {
   "cell_type": "code",
   "execution_count": 71,
   "id": "d67c0656",
   "metadata": {},
   "outputs": [
    {
     "name": "stdout",
     "output_type": "stream",
     "text": [
      "Model determination:  0.034532645086604474\n"
     ]
    }
   ],
   "source": [
    "score_poly = pipeline.score(X_train,y_train)\n",
    "print('Model determination: ', score_poly)"
   ]
  },
  {
   "cell_type": "code",
   "execution_count": 72,
   "id": "ec808dd2",
   "metadata": {},
   "outputs": [
    {
     "data": {
      "text/plain": [
       "[<matplotlib.lines.Line2D at 0x21535351e70>]"
      ]
     },
     "execution_count": 72,
     "metadata": {},
     "output_type": "execute_result"
    },
    {
     "data": {
      "image/png": "[encoded data removed]",
      "text/plain": [
       "<Figure size 640x480 with 1 Axes>"
      ]
     },
     "metadata": {},
     "output_type": "display_data"
    }
   ],
   "source": [
    "plt.scatter(X_test,y_test, color='k')\n",
    "plt.plot(X_test,pred_poly)"
   ]
  },
  {
   "cell_type": "code",
   "execution_count": 73,
   "id": "0a999f12",
   "metadata": {},
   "outputs": [
    {
     "data": {
      "text/html": [
       "<div>\n",
       "<style scoped>\n",
       "    .dataframe tbody tr th:only-of-type {\n",
       "        vertical-align: middle;\n",
       "    }\n",
       "\n",
       "    .dataframe tbody tr th {\n",
       "        vertical-align: top;\n",
       "    }\n",
       "\n",
       "    .dataframe thead th {\n",
       "        text-align: right;\n",
       "    }\n",
       "</style>\n",
       "<table border=\"1\" class=\"dataframe\">\n",
       "  <thead>\n",
       "    <tr style=\"text-align: right;\">\n",
       "      <th></th>\n",
       "      <th>BIG MACK TYPE</th>\n",
       "      <th>BLUE TYPE</th>\n",
       "      <th>CINDERELLA</th>\n",
       "      <th>FAIRYTALE</th>\n",
       "      <th>HOWDEN TYPE</th>\n",
       "      <th>HOWDEN WHITE TYPE</th>\n",
       "      <th>KNUCKLE HEAD</th>\n",
       "      <th>MINIATURE</th>\n",
       "      <th>MIXED HEIRLOOM VARIETIES</th>\n",
       "      <th>PIE TYPE</th>\n",
       "    </tr>\n",
       "  </thead>\n",
       "  <tbody>\n",
       "    <tr>\n",
       "      <th>0</th>\n",
       "      <td>0</td>\n",
       "      <td>0</td>\n",
       "      <td>0</td>\n",
       "      <td>0</td>\n",
       "      <td>0</td>\n",
       "      <td>0</td>\n",
       "      <td>0</td>\n",
       "      <td>0</td>\n",
       "      <td>0</td>\n",
       "      <td>0</td>\n",
       "    </tr>\n",
       "    <tr>\n",
       "      <th>1</th>\n",
       "      <td>0</td>\n",
       "      <td>0</td>\n",
       "      <td>0</td>\n",
       "      <td>0</td>\n",
       "      <td>0</td>\n",
       "      <td>0</td>\n",
       "      <td>0</td>\n",
       "      <td>0</td>\n",
       "      <td>0</td>\n",
       "      <td>0</td>\n",
       "    </tr>\n",
       "    <tr>\n",
       "      <th>2</th>\n",
       "      <td>0</td>\n",
       "      <td>0</td>\n",
       "      <td>0</td>\n",
       "      <td>0</td>\n",
       "      <td>1</td>\n",
       "      <td>0</td>\n",
       "      <td>0</td>\n",
       "      <td>0</td>\n",
       "      <td>0</td>\n",
       "      <td>0</td>\n",
       "    </tr>\n",
       "    <tr>\n",
       "      <th>3</th>\n",
       "      <td>0</td>\n",
       "      <td>0</td>\n",
       "      <td>0</td>\n",
       "      <td>0</td>\n",
       "      <td>1</td>\n",
       "      <td>0</td>\n",
       "      <td>0</td>\n",
       "      <td>0</td>\n",
       "      <td>0</td>\n",
       "      <td>0</td>\n",
       "    </tr>\n",
       "    <tr>\n",
       "      <th>4</th>\n",
       "      <td>0</td>\n",
       "      <td>0</td>\n",
       "      <td>0</td>\n",
       "      <td>0</td>\n",
       "      <td>1</td>\n",
       "      <td>0</td>\n",
       "      <td>0</td>\n",
       "      <td>0</td>\n",
       "      <td>0</td>\n",
       "      <td>0</td>\n",
       "    </tr>\n",
       "    <tr>\n",
       "      <th>...</th>\n",
       "      <td>...</td>\n",
       "      <td>...</td>\n",
       "      <td>...</td>\n",
       "      <td>...</td>\n",
       "      <td>...</td>\n",
       "      <td>...</td>\n",
       "      <td>...</td>\n",
       "      <td>...</td>\n",
       "      <td>...</td>\n",
       "      <td>...</td>\n",
       "    </tr>\n",
       "    <tr>\n",
       "      <th>1752</th>\n",
       "      <td>0</td>\n",
       "      <td>0</td>\n",
       "      <td>0</td>\n",
       "      <td>0</td>\n",
       "      <td>0</td>\n",
       "      <td>0</td>\n",
       "      <td>0</td>\n",
       "      <td>1</td>\n",
       "      <td>0</td>\n",
       "      <td>0</td>\n",
       "    </tr>\n",
       "    <tr>\n",
       "      <th>1753</th>\n",
       "      <td>0</td>\n",
       "      <td>0</td>\n",
       "      <td>0</td>\n",
       "      <td>0</td>\n",
       "      <td>0</td>\n",
       "      <td>0</td>\n",
       "      <td>0</td>\n",
       "      <td>1</td>\n",
       "      <td>0</td>\n",
       "      <td>0</td>\n",
       "    </tr>\n",
       "    <tr>\n",
       "      <th>1754</th>\n",
       "      <td>0</td>\n",
       "      <td>0</td>\n",
       "      <td>0</td>\n",
       "      <td>0</td>\n",
       "      <td>0</td>\n",
       "      <td>0</td>\n",
       "      <td>0</td>\n",
       "      <td>1</td>\n",
       "      <td>0</td>\n",
       "      <td>0</td>\n",
       "    </tr>\n",
       "    <tr>\n",
       "      <th>1755</th>\n",
       "      <td>0</td>\n",
       "      <td>0</td>\n",
       "      <td>0</td>\n",
       "      <td>0</td>\n",
       "      <td>0</td>\n",
       "      <td>0</td>\n",
       "      <td>0</td>\n",
       "      <td>1</td>\n",
       "      <td>0</td>\n",
       "      <td>0</td>\n",
       "    </tr>\n",
       "    <tr>\n",
       "      <th>1756</th>\n",
       "      <td>0</td>\n",
       "      <td>0</td>\n",
       "      <td>0</td>\n",
       "      <td>0</td>\n",
       "      <td>0</td>\n",
       "      <td>0</td>\n",
       "      <td>0</td>\n",
       "      <td>1</td>\n",
       "      <td>0</td>\n",
       "      <td>0</td>\n",
       "    </tr>\n",
       "  </tbody>\n",
       "</table>\n",
       "<p>1757 rows × 10 columns</p>\n",
       "</div>"
      ],
      "text/plain": [
       "      BIG MACK TYPE  BLUE TYPE  CINDERELLA  FAIRYTALE  HOWDEN TYPE  \\\n",
       "0                 0          0           0          0            0   \n",
       "1                 0          0           0          0            0   \n",
       "2                 0          0           0          0            1   \n",
       "3                 0          0           0          0            1   \n",
       "4                 0          0           0          0            1   \n",
       "...             ...        ...         ...        ...          ...   \n",
       "1752              0          0           0          0            0   \n",
       "1753              0          0           0          0            0   \n",
       "1754              0          0           0          0            0   \n",
       "1755              0          0           0          0            0   \n",
       "1756              0          0           0          0            0   \n",
       "\n",
       "      HOWDEN WHITE TYPE  KNUCKLE HEAD  MINIATURE  MIXED HEIRLOOM VARIETIES  \\\n",
       "0                     0             0          0                         0   \n",
       "1                     0             0          0                         0   \n",
       "2                     0             0          0                         0   \n",
       "3                     0             0          0                         0   \n",
       "4                     0             0          0                         0   \n",
       "...                 ...           ...        ...                       ...   \n",
       "1752                  0             0          1                         0   \n",
       "1753                  0             0          1                         0   \n",
       "1754                  0             0          1                         0   \n",
       "1755                  0             0          1                         0   \n",
       "1756                  0             0          1                         0   \n",
       "\n",
       "      PIE TYPE  \n",
       "0            0  \n",
       "1            0  \n",
       "2            0  \n",
       "3            0  \n",
       "4            0  \n",
       "...        ...  \n",
       "1752         0  \n",
       "1753         0  \n",
       "1754         0  \n",
       "1755         0  \n",
       "1756         0  \n",
       "\n",
       "[1757 rows x 10 columns]"
      ]
     },
     "execution_count": 73,
     "metadata": {},
     "output_type": "execute_result"
    }
   ],
   "source": [
    "#Creating dummy variables so that we can include variety in the model\n",
    "#The model will be over-parameterised in this case\n",
    "pd.get_dummies(new_pumpkins['Variety'])"
   ]
  },
  {
   "cell_type": "code",
   "execution_count": 75,
   "id": "830f5bb2",
   "metadata": {},
   "outputs": [],
   "source": [
    "#Creating new dependent and independent variables \n",
    "X1 = pd.get_dummies(new_pumpkins['Variety'])\n",
    "y1 = new_pumpkins['Price']"
   ]
  },
  {
   "cell_type": "code",
   "execution_count": 87,
   "id": "1e921c5a",
   "metadata": {},
   "outputs": [],
   "source": [
    "X1 = pd.get_dummies(new_pumpkins['Variety']) \\\n",
    "        .join(new_pumpkins['Month']) \\\n",
    "        .join(pd.get_dummies(new_pumpkins['City'])) \\\n",
    "        .join(pd.get_dummies(new_pumpkins['Package']))"
   ]
  },
  {
   "cell_type": "code",
   "execution_count": 88,
   "id": "08fe70f9",
   "metadata": {},
   "outputs": [],
   "source": [
    "#Performing train-test split\n",
    "X1_train, X1_test, y1_train, y1_test = train_test_split(X1, y1, test_size=0.2, random_state=0)\n",
    "\n",
    "#Creating pipeline\n",
    "pipeline1 = make_pipeline(PolynomialFeatures(2), LinearRegression())\n",
    "pipeline1.fit(X1_train,y1_train)\n",
    "\n",
    "#Testing the model\n",
    "pred1 = pipeline1.predict(X1_test)"
   ]
  },
  {
   "cell_type": "code",
   "execution_count": 90,
   "id": "c9a1117f",
   "metadata": {},
   "outputs": [
    {
     "name": "stdout",
     "output_type": "stream",
     "text": [
      "3716161797.7221694\n",
      "Model determination:  0.9309187647325811\n"
     ]
    }
   ],
   "source": [
    "#Calculating mean-square error and determination\n",
    "mse1 = np.sqrt(mean_squared_error(y1_test,pred1))\n",
    "print(mse1)\n",
    "\n",
    "#As we can see, the determination is much closer to 1, thus, the model is a stronger fit\n",
    "score1 = pipeline1.score(X1_train,y1_train)\n",
    "print('Model determination: ', score1)"
   ]
  }
 ],
 "metadata": {
  "kernelspec": {
   "display_name": "Python 3 (ipykernel)",
   "language": "python",
   "name": "python3"
  },
  "language_info": {
   "codemirror_mode": {
    "name": "ipython",
    "version": 3
   },
   "file_extension": ".py",
   "mimetype": "text/x-python",
   "name": "python",
   "nbconvert_exporter": "python",
   "pygments_lexer": "ipython3",
   "version": "3.10.9"
  }
 },
 "nbformat": 4,
 "nbformat_minor": 5
}
